{
 "cells": [
  {
   "cell_type": "markdown",
   "metadata": {},
   "source": [
    "# terminal command\n"
   ]
  },
  {
   "cell_type": "markdown",
   "metadata": {},
   "source": [
    "```\n",
    "scrapy crawl DataAsin\n",
    "scrapy crawl AmazonItmes -o items.json \n",
    "```\n",
    "---\n",
    "\n",
    "\n",
    "/spider/DataAsinsSpider.py 가 전체 목록에 있는 item들의 data-asin(10글자짜리 dp 뒤에 붙는 애들)을 긁어서 dataasins.json에다가 넣는다. \n",
    "\n",
    "/spider/AmazonProductSpider.py 는 dataasins.json의 내용을 읽어와서 split한 다음 dp뒤에 코드를 붙여서 start_requests를 하기 위한 링크를 만든다. 이후 parse를 통해 해당하는 url들에 있는 내용을 가져옴(feature bullets)\n"
   ]
  },
  {
   "cell_type": "code",
   "execution_count": null,
   "metadata": {
    "collapsed": true
   },
   "outputs": [],
   "source": []
  }
 ],
 "metadata": {
  "kernelspec": {
   "display_name": "Python 3",
   "language": "python",
   "name": "python3"
  },
  "language_info": {
   "codemirror_mode": {
    "name": "ipython",
    "version": 3
   },
   "file_extension": ".py",
   "mimetype": "text/x-python",
   "name": "python",
   "nbconvert_exporter": "python",
   "pygments_lexer": "ipython3",
   "version": "3.6.1"
  }
 },
 "nbformat": 4,
 "nbformat_minor": 2
}
